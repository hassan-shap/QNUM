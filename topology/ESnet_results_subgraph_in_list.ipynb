{
 "cells": [
  {
   "cell_type": "code",
   "execution_count": null,
   "id": "cc2e9eae",
   "metadata": {},
   "outputs": [],
   "source": [
    "# for q 1.0 F 0.99\n",
    "user_pairs = [\"('NETLPGH', 'PSFC')\",\n",
    "              \"('NETLMGN', 'PPPL')\", \n",
    "              \"('BNL', 'JLAB')\", \"('SRS', 'ORAU')\",\n",
    "              \"('Y12', 'FNAL')\", \"('ORNL', 'ANL')\"]\n",
    "list_of_paths = [\n",
    "    [\"('NETLPGH',80)\", \"(80,'EQXDC4')\",\n",
    "     \"('EQXDC4',112)\", '(112,110)',\n",
    "     \"(110,'NEWY1118TH')\", \"('NEWY1118TH',46)\",\n",
    "     '(46,45)', '(45,44)', '(44,42)', \"(42,'PSFC')\"], \n",
    "    [\"('NETLMGN',85)\", '(85,84)', '(84,83)', \"(83,'EQXDC4')\",\n",
    "     \"('EQXDC4','WASH')\", \"('WASH',117)\", '(117,116)', '(116,115)', \n",
    "     '(115,114)', \"(114,'PPPL')\"],\n",
    "    [\"('BNL','NEWY32AOA')\", \"('NEWY32AOA',109)\", '(109,110)', '(110,111)',\n",
    "     '(111,112)', '(112,113)', \"(113,'WASH')\", \"('WASH',86)\", '(86,87)',\n",
    "     '(87,88)', \"(88,'JLAB')\"],\n",
    "    [\"('SRS',4)\", '(4,3)', '(3,2)', \"(2,'ATLA')\", \"('ATLA',21)\",\n",
    "     '(21,22)', '(22,23)', \"(23,'ORAU')\"], \n",
    "    [\"('Y12','CHAT')\", \"('CHAT','NASH')\", \"('NASH',59)\", \n",
    "     '(59,56)', '(56,55)', '(55,53)', \"(53,'STAR')\", \"('STAR','FNAL')\"],\n",
    "    [\"('ORNL',61)\", '(61,58)', '(58,55)', '(55,52)', \"(52,'ANL')\"]]\n",
    "# for q 0.5 F 1.0\n",
    "user_pairs = [\"('NETLPGH', 'PSFC')\",\n",
    "              \"('NETLMGN', 'PPPL')\",\n",
    "              \"('BNL', 'JLAB')\",\n",
    "              \"('SRS', 'ORAU')\", \n",
    "              \"('Y12', 'FNAL')\", \n",
    "              \"('ORNL', 'ANL')\"]\n",
    "list_of_paths = [[\"('NETLPGH',80)\", \"(80,'EQXDC4')\", \"('EQXDC4',112)\", \n",
    "                  '(112,110)', \"(110,'NEWY1118TH')\", \"('NEWY1118TH',46)\",\n",
    "                  '(46,45)', '(45,44)', '(44,42)', \"(42,'PSFC')\"], \n",
    "                 [\"('NETLMGN',85)\", '(85,84)', '(84,83)', \"(83,'EQXDC4')\",\n",
    "                  \"('EQXDC4','WASH')\", \"('WASH',117)\", '(117,116)',\n",
    "                  '(116,115)', '(115,114)', \"(114,'PPPL')\"], \n",
    "                 [\"('BNL','NEWY32AOA')\", \"('NEWY32AOA',109)\", \n",
    "                  '(109,110)', '(110,111)', '(111,112)', '(112,113)', \"(113,'WASH')\",\n",
    "                  \"('WASH',86)\", '(86,87)', '(87,88)', \"(88,'JLAB')\"], \n",
    "                 [\"('SRS',4)\", '(4,3)', '(3,2)', \"(2,'ATLA')\", \"('ATLA',21)\",\n",
    "                  '(21,22)', '(22,23)', \"(23,'ORAU')\"], \n",
    "                 [\"('Y12','CHAT')\", \"('CHAT',61)\", '(61,59)', '(59,56)', \n",
    "                  '(56,55)', '(55,53)', \"(53,'STAR')\", \"('STAR','FNAL')\"], \n",
    "                 [\"('ORNL',61)\", '(61,58)', '(58,55)', '(55,52)', \"(52,'ANL')\"]]"
   ]
  },
  {
   "cell_type": "code",
   "execution_count": null,
   "id": "3fef6006",
   "metadata": {},
   "outputs": [],
   "source": []
  }
 ],
 "metadata": {
  "kernelspec": {
   "display_name": "Python 3 (ipykernel)",
   "language": "python",
   "name": "python3"
  },
  "language_info": {
   "codemirror_mode": {
    "name": "ipython",
    "version": 3
   },
   "file_extension": ".py",
   "mimetype": "text/x-python",
   "name": "python",
   "nbconvert_exporter": "python",
   "pygments_lexer": "ipython3",
   "version": "3.9.12"
  }
 },
 "nbformat": 4,
 "nbformat_minor": 5
}
