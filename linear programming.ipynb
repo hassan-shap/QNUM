{
 "cells": [
  {
   "cell_type": "code",
   "execution_count": 1,
   "id": "b8efd40f",
   "metadata": {},
   "outputs": [],
   "source": [
    "from gurobipy import *\n",
    "import networkx as nx"
   ]
  },
  {
   "cell_type": "code",
   "execution_count": 2,
   "id": "1e9e61f6",
   "metadata": {},
   "outputs": [
    {
     "name": "stdout",
     "output_type": "stream",
     "text": [
      "Restricted license - for non-production use only - expires 2024-10-28\n"
     ]
    },
    {
     "data": {
      "text/plain": [
       "<gurobi.Constr *Awaiting Model Update*>"
      ]
     },
     "execution_count": 2,
     "metadata": {},
     "output_type": "execute_result"
    }
   ],
   "source": [
    "m = Model()\n",
    "x1 = m.addVar(name=\"x1\")\n",
    "x2 = m.addVar(name=\"x2\")\n",
    "m.setObjective(3*x1 + 2*x2 , GRB.MAXIMIZE)\n",
    "m.addConstr(2.2*x1 + x2  <= 100, \"c1\")\n",
    "m.addConstr(x2  <= 30, \"c3\")\n",
    "m.addConstr(x1  >= 0, \"c4\")\n",
    "m.addConstr(x2  >= 0, \"c5\")"
   ]
  },
  {
   "cell_type": "code",
   "execution_count": 5,
   "id": "27cc3d66",
   "metadata": {},
   "outputs": [
    {
     "name": "stdout",
     "output_type": "stream",
     "text": [
      "Gurobi Optimizer version 10.0.1 build v10.0.1rc0 (mac64[x86])\n",
      "\n",
      "CPU model: Intel(R) Core(TM) i7-9750H CPU @ 2.60GHz\n",
      "Thread count: 6 physical cores, 12 logical processors, using up to 12 threads\n",
      "\n",
      "Optimize a model with 4 rows, 2 columns and 5 nonzeros\n",
      "Coefficient statistics:\n",
      "  Matrix range     [1e+00, 2e+00]\n",
      "  Objective range  [2e+00, 3e+00]\n",
      "  Bounds range     [0e+00, 0e+00]\n",
      "  RHS range        [3e+01, 1e+02]\n",
      "\n",
      "Solved in 0 iterations and 0.01 seconds (0.00 work units)\n",
      "Optimal objective  1.554545455e+02\n",
      "x1 31.818181818181817\n",
      "x2 30.0\n"
     ]
    }
   ],
   "source": [
    "m.optimize()\n",
    "for v in m.getVars():\n",
    "    print(v.varName, v.x)\n"
   ]
  },
  {
   "cell_type": "code",
   "execution_count": 6,
   "id": "da0fb9ec",
   "metadata": {},
   "outputs": [],
   "source": []
  },
  {
   "cell_type": "code",
   "execution_count": null,
   "id": "2a59db9e",
   "metadata": {},
   "outputs": [],
   "source": []
  }
 ],
 "metadata": {
  "kernelspec": {
   "display_name": "Python 3 (ipykernel)",
   "language": "python",
   "name": "python3"
  },
  "language_info": {
   "codemirror_mode": {
    "name": "ipython",
    "version": 3
   },
   "file_extension": ".py",
   "mimetype": "text/x-python",
   "name": "python",
   "nbconvert_exporter": "python",
   "pygments_lexer": "ipython3",
   "version": "3.8.16"
  }
 },
 "nbformat": 4,
 "nbformat_minor": 5
}
