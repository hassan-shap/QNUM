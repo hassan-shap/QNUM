{
 "cells": [
  {
   "cell_type": "code",
   "execution_count": 132,
   "id": "809f6978",
   "metadata": {},
   "outputs": [],
   "source": [
    "import numpy as np\n",
    "import matplotlib.pyplot as plt\n",
    "import networkx as nx\n",
    "from math import *"
   ]
  },
  {
   "cell_type": "markdown",
   "id": "672ef00d",
   "metadata": {},
   "source": [
    "# single repeater"
   ]
  },
  {
   "cell_type": "code",
   "execution_count": 248,
   "id": "1d93d450",
   "metadata": {},
   "outputs": [
    {
     "name": "stdout",
     "output_type": "stream",
     "text": [
      "0.08765\n"
     ]
    }
   ],
   "source": [
    "# one memory\n",
    "\n",
    "Nmc = 100000\n",
    "p1 = 0.2\n",
    "p2 = 0.1\n",
    "N0 = 100\n",
    "\n",
    "# initial state of ebits\n",
    "m1 = 0\n",
    "m2 = 0\n",
    "ent = np.zeros(Nmc)\n",
    "for i_mc in range(Nmc):\n",
    "    if m1 == 1:\n",
    "        if t1 < N0:\n",
    "            t1 += 1\n",
    "        else:\n",
    "            m1 = 0\n",
    "            t1 = 0\n",
    "    if m1 == 0:\n",
    "        if np.random.rand()<p1:\n",
    "            m1 = 1\n",
    "            t1 = 0\n",
    "\n",
    "    if m2 == 1:\n",
    "        if t2 < N0:\n",
    "            t2 += 1\n",
    "        else:\n",
    "            m2 = 0\n",
    "            t2 = 0\n",
    "    if m2 == 0:\n",
    "        if np.random.rand()<p2:\n",
    "            m2 = 1\n",
    "            t2 = 0\n",
    "    \n",
    "    if m1*m2>0 and t1 <= N0 and t2 <= N0:\n",
    "#         print(m1,m2,t1,t2)\n",
    "        m1 = 0\n",
    "        m2 = 0\n",
    "        t1 = 0\n",
    "        t2 = 0\n",
    "        ent[i_mc] = 1\n",
    "        \n",
    "# plt.plot()\n",
    "eff_rate = np.sum(ent)/Nmc\n",
    "print(eff_rate)\n",
    "# plt.plot(ent)\n",
    "# plt.show()\n"
   ]
  },
  {
   "cell_type": "code",
   "execution_count": 247,
   "id": "70c08385",
   "metadata": {},
   "outputs": [
    {
     "data": {
      "text/plain": [
       "0.9999734383974143"
      ]
     },
     "execution_count": 247,
     "metadata": {},
     "output_type": "execute_result"
    }
   ],
   "source": [
    "# (1-(1-p1)**N0)*(1-(1-p2)**N0)\n"
   ]
  },
  {
   "cell_type": "code",
   "execution_count": 282,
   "id": "68aef8af",
   "metadata": {},
   "outputs": [
    {
     "name": "stdout",
     "output_type": "stream",
     "text": [
      "0.10002\n"
     ]
    }
   ],
   "source": [
    "# Nm memory\n",
    "\n",
    "Nmc = 10000\n",
    "p1 = 0.25\n",
    "p2 = 0.1\n",
    "N0 = 10\n",
    "Nm = 20\n",
    "\n",
    "# initial state of ebits\n",
    "m1_arr = np.zeros(Nm)\n",
    "m2_arr = np.zeros(Nm)\n",
    "t1_arr = np.zeros(Nm)\n",
    "t2_arr = np.zeros(Nm)\n",
    "\n",
    "ent = np.zeros(Nmc)\n",
    "for i_mc in range(Nmc):\n",
    "    for i1 in range(len(m1_arr)):\n",
    "        if m1_arr[i1] == 1:\n",
    "            if t1_arr[i1] < N0:\n",
    "                t1_arr[i1] += 1\n",
    "            else:\n",
    "                m1_arr[i1] = 0\n",
    "                t1_arr[i1] = 0\n",
    "        if  m1_arr[i1] == 0:\n",
    "            if np.random.rand() < p1:\n",
    "                m1_arr[i1] = 1\n",
    "                t1_arr[i1] = 0\n",
    "\n",
    "    for i2 in range(len(m2_arr)):\n",
    "        if m2_arr[i2] == 1:\n",
    "            if t2_arr[i2] < N0:\n",
    "                t2_arr[i2] += 1\n",
    "            else:\n",
    "                m2_arr[i2] = 0\n",
    "                t2_arr[i2] = 0\n",
    "        if  m2_arr[i2] == 0:\n",
    "            if np.random.rand() < p2:\n",
    "                m2_arr[i2] = 1\n",
    "                t2_arr[i2] = 0\n",
    "\n",
    "    inds1 = np.argwhere(m1_arr==1)\n",
    "    inds2 = np.argwhere(m2_arr==1)\n",
    "    t1s = np.argwhere(t1_arr[inds1]<= N0)[:,0]\n",
    "    t2s = np.argwhere(t2_arr[inds2]<= N0)[:,0]\n",
    "    swap = min(len(t1s),len(t2s))\n",
    "    ent[i_mc] = swap\n",
    "#     m1_arr *= 0 \n",
    "#     m2_arr *= 0 \n",
    "#     t1_arr *= 0 \n",
    "#     t2_arr *= 0 \n",
    "    if swap>0:\n",
    "#         print(m1_arr,m2_arr)\n",
    "#         print(t1_arr,t2_arr)\n",
    "        if len(t1s) <= len(t2s):\n",
    "            m1_arr[inds1[t1s]] = 0\n",
    "            t1_arr[inds1[t1s]] = 0\n",
    "            i_swap = np.argsort( np.reshape(t2_arr[inds2[t2s]], (1,len(t2s))) )[::-1]\n",
    "#             print(\"t2=\",t2_arr[inds2[t2s]])\n",
    "#             print(\"sw:\",i_swap)\n",
    "            zero2 = np.reshape(inds2[t2s[i_swap]],(len(t2s),))[:swap]\n",
    "            m2_arr[ zero2] = 0\n",
    "            t2_arr[ zero2] = 0\n",
    "#             print(\"i1:\",inds1[t1s])\n",
    "#             print(\"i2:\",zero2,\"sw\",swap)\n",
    "        else:\n",
    "            m2_arr[inds2[t2s]] = 0\n",
    "            t2_arr[inds2[t2s]] = 0\n",
    "            i_swap = np.argsort( np.reshape(t1_arr[inds1[t1s]], (1,len(t1s))) )[::-1]\n",
    "#             print(\"t1:\",t1_arr[inds1[t1s]])\n",
    "#             print(\"sw:\",i_swap)\n",
    "            zero1 = np.reshape(inds1[t1s[i_swap]],(len(t1s),))[:swap]\n",
    "            m1_arr[ zero1] = 0\n",
    "            t1_arr[ zero1] = 0\n",
    "#             print(\"i1:\",np.reshape(inds1[t1s[i_swap]],(1,swap))[:swap])\n",
    "#             print(\"i1:\",zero1,\"sw\",swap)\n",
    "#             print(\"i2:\",inds2[t2s])\n",
    "\n",
    "# plt.plot()\n",
    "eff_rate = np.sum(ent)/Nmc/Nm\n",
    "print(eff_rate)\n",
    "# plt.plot(ent)\n",
    "# plt.show()\n"
   ]
  },
  {
   "cell_type": "code",
   "execution_count": 268,
   "id": "072c445a",
   "metadata": {},
   "outputs": [
    {
     "name": "stdout",
     "output_type": "stream",
     "text": [
      "14.917643315747302\n"
     ]
    }
   ],
   "source": [
    "prob = 0 \n",
    "for i1 in range(Nm+1):\n",
    "    for i2 in range(Nm+1):\n",
    "        prob += min(i1,i2)* comb(Nm,i1)* comb(Nm,i2) * p1**i1 * (1-p1)**(Nm-i1) * p2**i2 * (1-p2)**(Nm-i2) \n",
    "print(prob)"
   ]
  },
  {
   "cell_type": "code",
   "execution_count": 229,
   "id": "9b5423b1",
   "metadata": {},
   "outputs": [
    {
     "name": "stdout",
     "output_type": "stream",
     "text": [
      "[0 1 2 3 4 5 6 7 8 9] [0 1 2 3]\n"
     ]
    }
   ],
   "source": [
    "v = np.arange(10)\n",
    "print(v,v[:4])"
   ]
  },
  {
   "cell_type": "code",
   "execution_count": null,
   "id": "85617033",
   "metadata": {},
   "outputs": [],
   "source": []
  }
 ],
 "metadata": {
  "kernelspec": {
   "display_name": "Python 3 (ipykernel)",
   "language": "python",
   "name": "python3"
  },
  "language_info": {
   "codemirror_mode": {
    "name": "ipython",
    "version": 3
   },
   "file_extension": ".py",
   "mimetype": "text/x-python",
   "name": "python",
   "nbconvert_exporter": "python",
   "pygments_lexer": "ipython3",
   "version": "3.8.16"
  }
 },
 "nbformat": 4,
 "nbformat_minor": 5
}
